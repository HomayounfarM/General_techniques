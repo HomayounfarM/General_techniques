{
  "nbformat": 4,
  "nbformat_minor": 0,
  "metadata": {
    "colab": {
      "private_outputs": true,
      "provenance": [],
      "authorship_tag": "ABX9TyN1IXSu9+YgPh6v7GsS3gPK",
      "include_colab_link": true
    },
    "kernelspec": {
      "name": "python3",
      "display_name": "Python 3"
    },
    "language_info": {
      "name": "python"
    }
  },
  "cells": [
    {
      "cell_type": "markdown",
      "metadata": {
        "id": "view-in-github",
        "colab_type": "text"
      },
      "source": [
        "<a href=\"https://colab.research.google.com/github/HomayounfarM/General_techniques/blob/main/Reading_tif.ipynb\" target=\"_parent\"><img src=\"https://colab.research.google.com/assets/colab-badge.svg\" alt=\"Open In Colab\"/></a>"
      ]
    },
    {
      "cell_type": "code",
      "execution_count": null,
      "metadata": {
        "id": "FKLSThlYAvWI"
      },
      "outputs": [],
      "source": [
        "!pip install -U -q PyDrive\n",
        "\n",
        "from pydrive.auth import GoogleAuth\n",
        "from pydrive.drive import GoogleDrive\n",
        "from google.colab import auth\n",
        "from oauth2client.client import GoogleCredentials\n",
        "\n",
        "# Authenticate and create the PyDrive client.\n",
        "auth.authenticate_user()\n",
        "gauth = GoogleAuth()\n",
        "gauth.credentials = GoogleCredentials.get_application_default()\n",
        "drive = GoogleDrive(gauth)\n",
        "from google.colab import drive\n",
        "import os"
      ]
    },
    {
      "cell_type": "code",
      "source": [
        "import matplotlib.pyplot as plt\n",
        "import cv2\n",
        "import numpy as np\n",
        "import pandas as pd\n",
        "import scipy\n",
        "import statsmodels.api as sm\n",
        "from statsmodels.formula.api import ols\n",
        "import seaborn as sns\n",
        "import skimage\n",
        "from skimage.filters import median\n",
        "from skimage.morphology import disk\n",
        "from skimage import feature\n",
        "from scipy.ndimage import distance_transform_edt\n",
        "from skimage import measure\n",
        "import cv2 as cv\n",
        "import cv2 as cv2\n",
        "from skimage.segmentation import watershed\n",
        "from scipy import ndimage as ndi\n",
        "from sklearn.cluster import KMeans\n",
        "import skimage.io\n",
        "from skimage import data"
      ],
      "metadata": {
        "id": "HzyZBoUpA3NG"
      },
      "execution_count": null,
      "outputs": []
    },
    {
      "cell_type": "code",
      "source": [
        "from google.colab import drive\n",
        "import matplotlib.pyplot as plt\n",
        "import os\n",
        "import cv2\n",
        "from PIL import Image\n",
        "\n",
        "# Mount Google Drive\n",
        "drive.mount('/content/drive')\n",
        "\n",
        "os.chdir('/content/drive/My Drive/axe')\n",
        "\n",
        "img = plt.imread('1_5033190011458027541.JPG')\n",
        "\n",
        "\n",
        "img_90 = cv2.rotate(img, cv2.ROTATE_90_CLOCKWISE)\n",
        "\n",
        "\n",
        "plt.imshow(img_90)"
      ],
      "metadata": {
        "id": "veUmE2GmBJRj"
      },
      "execution_count": null,
      "outputs": []
    }
  ]
}